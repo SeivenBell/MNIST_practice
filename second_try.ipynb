{
 "cells": [
  {
   "cell_type": "code",
   "execution_count": 2,
   "metadata": {},
   "outputs": [],
   "source": [
    "import torch \n",
    "import torch.nn as nn\n",
    "from torch.optim import SGD \n",
    "import torch.nn.functional as F\n",
    "from torch.utils.data import Dataset, DataLoader\n",
    "import torchvision\n",
    "import numpy as np \n",
    "import matplotlib.pyplot as plt"
   ]
  },
  {
   "cell_type": "code",
   "execution_count": 3,
   "metadata": {},
   "outputs": [
    {
     "name": "stdout",
     "output_type": "stream",
     "text": [
      "tensor([[[[242,  35,  78,  ..., 178,  67, 171],\n",
      "          [ 99, 160,  40,  ...,  93,  48,  94],\n",
      "          [ 37, 109, 218,  ..., 110,  52,  88],\n",
      "          ...,\n",
      "          [ 98, 122,  46,  ..., 213,   4, 151],\n",
      "          [187,  36,  74,  ...,  68,  25, 186],\n",
      "          [191,  44, 190,  ..., 224,  71,  61]],\n",
      "\n",
      "         [[ 23,  24,   0,  ...,  79, 182, 153],\n",
      "          [ 26, 155, 233,  ..., 207,  49,  16],\n",
      "          [120, 254, 116,  ...,  58, 190,  48],\n",
      "          ...,\n",
      "          [ 95, 115, 138,  ...,  47, 195, 151],\n",
      "          [ 92, 238, 175,  ...,   3,  94, 105],\n",
      "          [134,  18,  79,  ...,   2,  18,  29]],\n",
      "\n",
      "         [[216, 159,  23,  ..., 119,  36,  41],\n",
      "          [234, 194, 173,  ..., 216, 243,  88],\n",
      "          [ 20, 113, 238,  ..., 135, 115, 241],\n",
      "          ...,\n",
      "          [231,  24,  70,  ..., 212,  75, 194],\n",
      "          [ 78, 203,  91,  ..., 251, 143,  40],\n",
      "          [126, 174, 224,  ..., 109, 199,  75]]],\n",
      "\n",
      "\n",
      "        [[[244, 128,  88,  ..., 110, 254,   9],\n",
      "          [ 45,  69,  49,  ..., 230,  77,   6],\n",
      "          [210, 128,   6,  ...,  83,  54, 242],\n",
      "          ...,\n",
      "          [223,  80, 115,  ...,  83, 132, 121],\n",
      "          [105, 145,  82,  ..., 239, 186, 141],\n",
      "          [187, 126, 188,  ...,  36, 253, 236]],\n",
      "\n",
      "         [[ 13,  24,  95,  ...,  17, 163, 237],\n",
      "          [ 92,  84, 177,  ..., 157, 161, 108],\n",
      "          [194, 211,  67,  ..., 123, 146,  91],\n",
      "          ...,\n",
      "          [178,  24,  82,  ...,  65,  54,  66],\n",
      "          [ 58,  52, 196,  ...,  31, 245, 143],\n",
      "          [ 70,  54, 202,  ...,  96, 226,  13]],\n",
      "\n",
      "         [[195,  62, 200,  ...,  90, 164,  98],\n",
      "          [ 35,  61, 149,  ...,  78,  95,  80],\n",
      "          [128,  28,  59,  ..., 120,   6,  65],\n",
      "          ...,\n",
      "          [237, 222,  90,  ..., 245,  25, 238],\n",
      "          [156,  28,  91,  ...,  44, 196,  93],\n",
      "          [ 83,  87, 216,  ...,  96,  53,  90]]],\n",
      "\n",
      "\n",
      "        [[[148,  57, 212,  ..., 135, 184, 137],\n",
      "          [118,  52, 255,  ..., 112, 242, 110],\n",
      "          [ 32, 126, 196,  ..., 189, 189, 103],\n",
      "          ...,\n",
      "          [ 14, 117, 111,  ..., 253,   0,  80],\n",
      "          [ 17,  38,  15,  ..., 235,  59,  40],\n",
      "          [224,  83,  66,  ...,  25,  63,  58]],\n",
      "\n",
      "         [[241, 197, 111,  ...,  76, 232,  50],\n",
      "          [200, 121,  47,  ..., 211, 238, 147],\n",
      "          [240,  24, 226,  ...,  35,  19,  40],\n",
      "          ...,\n",
      "          [  0, 134, 138,  ...,  72, 178,  78],\n",
      "          [ 13,   4, 239,  ...,  35, 242, 205],\n",
      "          [ 57, 239,  45,  ...,  98, 220,  23]],\n",
      "\n",
      "         [[ 28, 244, 138,  ..., 173, 144,  85],\n",
      "          [133,   1, 191,  ...,  62, 218,  81],\n",
      "          [230, 146, 132,  ...,  60,  46,  52],\n",
      "          ...,\n",
      "          [178,  76, 149,  ..., 104, 219,  48],\n",
      "          [185,  65, 230,  ..., 227,  79, 206],\n",
      "          [164, 244, 237,  ...,   4, 113, 160]]],\n",
      "\n",
      "\n",
      "        ...,\n",
      "\n",
      "\n",
      "        [[[ 46, 210, 217,  ..., 206,  97, 234],\n",
      "          [181, 254, 223,  ...,  35, 151, 247],\n",
      "          [157, 171, 109,  ..., 202,  83, 192],\n",
      "          ...,\n",
      "          [241,  39, 251,  ...,  22, 222, 199],\n",
      "          [ 43,  24, 221,  ..., 124, 206, 131],\n",
      "          [ 19, 195,  88,  ..., 161, 227, 157]],\n",
      "\n",
      "         [[ 16,  77, 225,  ..., 115,  15, 207],\n",
      "          [ 18, 151,  45,  ...,  19, 192, 227],\n",
      "          [173,  22, 247,  ..., 187, 177, 134],\n",
      "          ...,\n",
      "          [171,  61, 101,  ...,  45, 220,  80],\n",
      "          [134, 212,  27,  ...,  43,  28, 236],\n",
      "          [207, 196,  72,  ..., 253,  35, 130]],\n",
      "\n",
      "         [[  4,  67,  67,  ...,  48, 253, 249],\n",
      "          [140,  20, 250,  ..., 253, 171, 166],\n",
      "          [142, 140, 172,  ..., 174, 217, 139],\n",
      "          ...,\n",
      "          [ 65, 178,  77,  ...,  48, 163,  75],\n",
      "          [127,  30, 124,  ..., 169,  92, 166],\n",
      "          [214,  43, 137,  ..., 180,  75,  63]]],\n",
      "\n",
      "\n",
      "        [[[190, 187,  90,  ..., 184, 164, 208],\n",
      "          [247, 107, 146,  ...,   8, 234,  94],\n",
      "          [195, 163,  97,  ..., 195, 157,  24],\n",
      "          ...,\n",
      "          [  7, 203,  27,  ...,  71, 146, 130],\n",
      "          [248, 135, 178,  ...,  70, 155, 234],\n",
      "          [154,  65,  82,  ...,  36,   5,   1]],\n",
      "\n",
      "         [[ 22,  46,  48,  ..., 181, 209,  42],\n",
      "          [128, 212, 176,  ...,   2,  68,  96],\n",
      "          [192, 134, 155,  ..., 206, 252, 125],\n",
      "          ...,\n",
      "          [249, 200, 163,  ..., 130, 166, 220],\n",
      "          [187,  21,   4,  ...,   4, 107,  30],\n",
      "          [228,  76, 201,  ...,  16, 136, 175]],\n",
      "\n",
      "         [[ 55, 169, 141,  ...,  81, 227,  78],\n",
      "          [165,  76, 245,  ..., 194,  80,  65],\n",
      "          [185, 123,  26,  ..., 154,  81, 188],\n",
      "          ...,\n",
      "          [194,  45, 184,  ...,  70, 193,  50],\n",
      "          [104,  69, 163,  ..., 113, 224,  72],\n",
      "          [ 17, 137,  17,  ...,  82,  14, 105]]],\n",
      "\n",
      "\n",
      "        [[[185, 223, 251,  ...,  38, 234,  36],\n",
      "          [158, 183,  38,  ...,  20, 101, 248],\n",
      "          [239, 142, 226,  ...,  29, 237, 109],\n",
      "          ...,\n",
      "          [ 82, 241, 105,  ..., 182, 227,  59],\n",
      "          [ 77,  66,  47,  ...,  64, 157,  30],\n",
      "          [108, 202,  27,  ..., 203,  48, 174]],\n",
      "\n",
      "         [[  6, 244,  49,  ...,   8, 164, 159],\n",
      "          [159,  34,  27,  ..., 200, 149, 100],\n",
      "          [146,   1, 247,  ..., 208,   4, 245],\n",
      "          ...,\n",
      "          [212, 228, 202,  ..., 179, 217, 229],\n",
      "          [ 41, 218, 213,  ..., 252, 232, 246],\n",
      "          [ 91, 240, 140,  ..., 170, 229, 190]],\n",
      "\n",
      "         [[202, 122, 136,  ...,  12, 105, 169],\n",
      "          [ 78,  45,   7,  ..., 180,  88, 132],\n",
      "          [ 50, 121,  71,  ..., 166, 152, 206],\n",
      "          ...,\n",
      "          [252,  74,  61,  ..., 172,  82, 205],\n",
      "          [ 38,  15, 210,  ..., 208,  84, 132],\n",
      "          [146,  22, 177,  ..., 248,  14,  52]]]], dtype=torch.uint8)\n"
     ]
    }
   ],
   "source": [
    "# Create a 128x128 RGB image tensor with random pixel values between 0 and 255\n",
    "rgb_image_tensor = torch.randint(0, 256, (3, 128, 128), dtype=torch.uint8)\n",
    "# Create a batch of 64 RGB images with dimensions 32x32 pixels\n",
    "image_batch = torch.randint(0, 256, (64, 3, 32, 32), dtype=torch.uint8)\n",
    "\n",
    "print(image_batch)"
   ]
  },
  {
   "cell_type": "code",
   "execution_count": 4,
   "metadata": {},
   "outputs": [],
   "source": [
    "x, y = torch.load(r'C:\\Users\\Seiven\\Desktop\\MY_MLmodels\\MNIST_practice\\MNIST\\processed\\training.pt')"
   ]
  },
  {
   "cell_type": "code",
   "execution_count": 5,
   "metadata": {},
   "outputs": [
    {
     "name": "stdout",
     "output_type": "stream",
     "text": [
      "X shape: torch.Size([60000, 28, 28])<class 'torch.Tensor'>\n",
      "Y shape: torch.Size([60000])<class 'torch.Tensor'>\n"
     ]
    }
   ],
   "source": [
    "print(\"X shape: \" + str(x.shape)+ str(type(x)))\n",
    "print(\"Y shape: \" + str(y.shape)+ str(type(y)))\n"
   ]
  },
  {
   "cell_type": "code",
   "execution_count": 6,
   "metadata": {},
   "outputs": [
    {
     "data": {
      "text/plain": [
       "<function matplotlib.pyplot.show(close=None, block=None)>"
      ]
     },
     "execution_count": 6,
     "metadata": {},
     "output_type": "execute_result"
    },
    {
     "data": {
      "image/png": "[encoded data removed]",
      "text/plain": [
       "<Figure size 640x480 with 2 Axes>"
      ]
     },
     "metadata": {},
     "output_type": "display_data"
    }
   ],
   "source": [
    "plt.imshow(x[2].numpy())\n",
    "plt.title(f'Number is {y[2].numpy()}')\n",
    "plt.colorbar()\n",
    "plt.show"
   ]
  },
  {
   "cell_type": "code",
   "execution_count": 7,
   "metadata": {},
   "outputs": [],
   "source": [
    "y_original = torch.tensor([2, 4, 3, 0, 1])\n",
    "y_new = F.one_hot(y_original)"
   ]
  },
  {
   "cell_type": "code",
   "execution_count": 8,
   "metadata": {},
   "outputs": [
    {
     "data": {
      "text/plain": [
       "tensor([2, 4, 3, 0, 1])"
      ]
     },
     "execution_count": 8,
     "metadata": {},
     "output_type": "execute_result"
    }
   ],
   "source": [
    "y_original\n"
   ]
  },
  {
   "cell_type": "code",
   "execution_count": 9,
   "metadata": {},
   "outputs": [
    {
     "data": {
      "text/plain": [
       "tensor([[0, 0, 1, 0, 0],\n",
       "        [0, 0, 0, 0, 1],\n",
       "        [0, 0, 0, 1, 0],\n",
       "        [1, 0, 0, 0, 0],\n",
       "        [0, 1, 0, 0, 0]])"
      ]
     },
     "execution_count": 9,
     "metadata": {},
     "output_type": "execute_result"
    }
   ],
   "source": [
    "y_new"
   ]
  },
  {
   "cell_type": "code",
   "execution_count": 10,
   "metadata": {},
   "outputs": [
    {
     "data": {
      "text/plain": [
       "torch.Size([60000, 784])"
      ]
     },
     "execution_count": 10,
     "metadata": {},
     "output_type": "execute_result"
    }
   ],
   "source": [
    "x.shape\n",
    "x.view(-1,28**2).shape"
   ]
  },
  {
   "attachments": {},
   "cell_type": "markdown",
   "metadata": {},
   "source": [
    "PyTorch Dataset Object\n"
   ]
  },
  {
   "cell_type": "code",
   "execution_count": 11,
   "metadata": {},
   "outputs": [],
   "source": [
    "class CTDataset(Dataset):\n",
    "    def __init__(self, filepath):\n",
    "        self.x, self.y = torch.load(filepath)\n",
    "        self.x=self.x/255.\n",
    "        self.y=F.one_hot(self.y,num_classes=10).to(float)\n",
    "    def __len__(self):\n",
    "        return self.x.shape[0]\n",
    "    def __getitem__(self, ix):\n",
    "        return self.x[ix], self.y[ix]"
   ]
  },
  {
   "cell_type": "code",
   "execution_count": 12,
   "metadata": {},
   "outputs": [],
   "source": [
    "train_ds = CTDataset('C:\\\\Users\\\\Seiven\\\\Desktop\\\\MY_MLmodels\\\\MNIST_practice\\\\MNIST\\\\processed\\\\training.pt')\n",
    "test_ds = CTDataset('C:\\\\Users\\\\Seiven\\\\Desktop\\\\MY_MLmodels\\\\MNIST_practice\\\\MNIST\\\\processed\\\\test.pt')"
   ]
  },
  {
   "cell_type": "code",
   "execution_count": 13,
   "metadata": {},
   "outputs": [
    {
     "data": {
      "text/plain": [
       "60000"
      ]
     },
     "execution_count": 13,
     "metadata": {},
     "output_type": "execute_result"
    }
   ],
   "source": [
    "len(train_ds)"
   ]
  },
  {
   "cell_type": "code",
   "execution_count": 14,
   "metadata": {},
   "outputs": [],
   "source": [
    "xs, ys = train_ds[0:4]"
   ]
  },
  {
   "cell_type": "code",
   "execution_count": 15,
   "metadata": {},
   "outputs": [
    {
     "data": {
      "text/plain": [
       "torch.Size([4, 10])"
      ]
     },
     "execution_count": 15,
     "metadata": {},
     "output_type": "execute_result"
    }
   ],
   "source": [
    "ys.shape"
   ]
  },
  {
   "attachments": {},
   "cell_type": "markdown",
   "metadata": {},
   "source": [
    "PyTorch DataLoader Object\n"
   ]
  },
  {
   "cell_type": "code",
   "execution_count": 16,
   "metadata": {},
   "outputs": [
    {
     "name": "stdout",
     "output_type": "stream",
     "text": [
      "torch.Size([5, 28, 28])\n",
      "torch.Size([5, 10])\n"
     ]
    }
   ],
   "source": [
    "train_dl = DataLoader(train_ds, batch_size=5)\n",
    "for x,y in train_dl:\n",
    "    print(x.shape)\n",
    "    print(y.shape)\n",
    "    break"
   ]
  },
  {
   "cell_type": "code",
   "execution_count": 17,
   "metadata": {},
   "outputs": [
    {
     "data": {
      "text/plain": [
       "12000"
      ]
     },
     "execution_count": 17,
     "metadata": {},
     "output_type": "execute_result"
    }
   ],
   "source": [
    "len(train_dl)"
   ]
  },
  {
   "attachments": {},
   "cell_type": "markdown",
   "metadata": {},
   "source": [
    "Cross Entropy Loss"
   ]
  },
  {
   "cell_type": "code",
   "execution_count": 18,
   "metadata": {},
   "outputs": [],
   "source": [
    "L=nn.CrossEntropyLoss()"
   ]
  },
  {
   "attachments": {},
   "cell_type": "markdown",
   "metadata": {},
   "source": [
    "The Network"
   ]
  },
  {
   "cell_type": "code",
   "execution_count": 31,
   "metadata": {},
   "outputs": [],
   "source": [
    "class MyNeuralNet(nn.Module):\n",
    "    def __init__(self):\n",
    "        super().__init__()\n",
    "        self.Matrix1 = nn.Linear(28**2, 100)\n",
    "        self.Matrix2 = nn.Linear(100, 50)\n",
    "        self.Matrix3 = nn.Linear(50, 10)\n",
    "        self.R = nn.ReLU()\n",
    "\n",
    "    def forward(self, x):\n",
    "        x = x.view(-1, 28**2) # is a PyTorch method used to reshape a tensor without changing its data\n",
    "        x = self.R(self.Matrix1(x))\n",
    "        x = self.R(self.Matrix2(x))\n",
    "        x = self.Matrix3(x)\n",
    "        return x.squeeze()\n"
   ]
  },
  {
   "cell_type": "code",
   "execution_count": 32,
   "metadata": {},
   "outputs": [],
   "source": [
    "f = MyNeuralNet()"
   ]
  },
  {
   "cell_type": "code",
   "execution_count": 33,
   "metadata": {},
   "outputs": [
    {
     "data": {
      "text/plain": [
       "torch.Size([4, 28, 28])"
      ]
     },
     "execution_count": 33,
     "metadata": {},
     "output_type": "execute_result"
    }
   ],
   "source": [
    "xs.shape"
   ]
  },
  {
   "cell_type": "code",
   "execution_count": 38,
   "metadata": {},
   "outputs": [
    {
     "data": {
      "text/plain": [
       "tensor([[-0.0636,  0.0900,  0.0617,  0.0200,  0.0238, -0.0291, -0.1549,  0.1227,\n",
       "         -0.0672,  0.0929],\n",
       "        [-0.0621,  0.0654,  0.0919,  0.0479, -0.0031, -0.0485, -0.1593,  0.1049,\n",
       "         -0.0614,  0.0863],\n",
       "        [-0.0872,  0.0385,  0.1305,  0.0425,  0.0224, -0.0503, -0.1288,  0.0612,\n",
       "         -0.0331,  0.0932],\n",
       "        [-0.0965,  0.0970,  0.1067,  0.0218, -0.0256, -0.0418, -0.1587,  0.1256,\n",
       "         -0.0930,  0.0906]], grad_fn=<SqueezeBackward0>)"
      ]
     },
     "execution_count": 38,
     "metadata": {},
     "output_type": "execute_result"
    }
   ],
   "source": [
    "f(xs)"
   ]
  },
  {
   "cell_type": "code",
   "execution_count": 39,
   "metadata": {},
   "outputs": [
    {
     "data": {
      "text/plain": [
       "tensor([[0., 0., 0., 0., 0., 1., 0., 0., 0., 0.],\n",
       "        [1., 0., 0., 0., 0., 0., 0., 0., 0., 0.],\n",
       "        [0., 0., 0., 0., 1., 0., 0., 0., 0., 0.],\n",
       "        [0., 1., 0., 0., 0., 0., 0., 0., 0., 0.]], dtype=torch.float64)"
      ]
     },
     "execution_count": 39,
     "metadata": {},
     "output_type": "execute_result"
    }
   ],
   "source": [
    "ys"
   ]
  },
  {
   "cell_type": "code",
   "execution_count": 40,
   "metadata": {},
   "outputs": [
    {
     "data": {
      "text/plain": [
       "tensor(2.3059, dtype=torch.float64, grad_fn=<DivBackward1>)"
      ]
     },
     "execution_count": 40,
     "metadata": {},
     "output_type": "execute_result"
    }
   ],
   "source": [
    "L(f(xs), ys)"
   ]
  },
  {
   "cell_type": "code",
   "execution_count": 45,
   "metadata": {},
   "outputs": [],
   "source": [
    "def train_model(dl, f, n_epochs=20):  # data loader, f = MyNeuralNet()\n",
    "    # optimization\n",
    "    # Stochastic Gradient Descent, learning rate\n",
    "    opt = SGD(f.parameters(), lr=0.01)\n",
    "    L = nn.CrossEntropyLoss()\n",
    "\n",
    "    # Train model\n",
    "    losses = []\n",
    "    epochs = []\n",
    "    for epoch in range(n_epochs):\n",
    "        print(f'Epoch {epoch}')\n",
    "        N = len(dl)\n",
    "        for i, (x, y) in enumerate(dl):\n",
    "            # Update the weight of the network\n",
    "            opt.zero_grad()\n",
    "            loss_value = L(f(x), y) \n",
    "            loss_value.backward()\n",
    "            opt.step()\n",
    "            # Store training data\n",
    "            epoch.append(loss_value.item())\n",
    "            losses.append(loss_value.item())\n",
    "    return np.array(epochs), np.array(losses)\n",
    "\n"
   ]
  },
  {
   "cell_type": "code",
   "execution_count": 46,
   "metadata": {},
   "outputs": [
    {
     "name": "stdout",
     "output_type": "stream",
     "text": [
      "Epoch 0\n"
     ]
    },
    {
     "ename": "AttributeError",
     "evalue": "'int' object has no attribute 'append'",
     "output_type": "error",
     "traceback": [
      "\u001b[1;31m---------------------------------------------------------------------------\u001b[0m",
      "\u001b[1;31mAttributeError\u001b[0m                            Traceback (most recent call last)",
      "Cell \u001b[1;32mIn[46], line 1\u001b[0m\n\u001b[1;32m----> 1\u001b[0m epoch_data, loss_data \u001b[39m=\u001b[39m train_model(train_dl, f)\n",
      "Cell \u001b[1;32mIn[45], line 20\u001b[0m, in \u001b[0;36mtrain_model\u001b[1;34m(dl, f, n_epochs)\u001b[0m\n\u001b[0;32m     18\u001b[0m         opt\u001b[39m.\u001b[39mstep()\n\u001b[0;32m     19\u001b[0m         \u001b[39m# Store training data\u001b[39;00m\n\u001b[1;32m---> 20\u001b[0m         epoch\u001b[39m.\u001b[39;49mappend(loss_value\u001b[39m.\u001b[39mitem())\n\u001b[0;32m     21\u001b[0m         losses\u001b[39m.\u001b[39mappend(loss_value\u001b[39m.\u001b[39mitem())\n\u001b[0;32m     22\u001b[0m \u001b[39mreturn\u001b[39;00m np\u001b[39m.\u001b[39marray(epochs), np\u001b[39m.\u001b[39marray(losses)\n",
      "\u001b[1;31mAttributeError\u001b[0m: 'int' object has no attribute 'append'"
     ]
    }
   ],
   "source": [
    "epoch_data, loss_data = train_model(train_dl, f)\n",
    "#NEED TO FIX THIS"
   ]
  }
 ],
 "metadata": {
  "kernelspec": {
   "display_name": "Python 3",
   "language": "python",
   "name": "python3"
  },
  "language_info": {
   "codemirror_mode": {
    "name": "ipython",
    "version": 3
   },
   "file_extension": ".py",
   "mimetype": "text/x-python",
   "name": "python",
   "nbconvert_exporter": "python",
   "pygments_lexer": "ipython3",
   "version": "3.9.5"
  },
  "orig_nbformat": 4
 },
 "nbformat": 4,
 "nbformat_minor": 2
}
